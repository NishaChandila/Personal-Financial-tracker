{
 "cells": [
  {
   "cell_type": "markdown",
   "id": "90cde10c",
   "metadata": {},
   "source": [
    "#### Importing necessary libraries"
   ]
  },
  {
   "cell_type": "code",
   "execution_count": 1,
   "id": "8faefde4",
   "metadata": {},
   "outputs": [],
   "source": [
    "import pandas as pd\n",
    "import numpy as np\n",
    "import matplotlib.pyplot as plt\n",
    "import seaborn as sns"
   ]
  },
  {
   "cell_type": "code",
   "execution_count": 2,
   "id": "9d474e92",
   "metadata": {},
   "outputs": [],
   "source": [
    "df = pd.read_csv('banking-statment-dataset.csv') # loading dataset"
   ]
  },
  {
   "cell_type": "code",
   "execution_count": 3,
   "id": "3bfa017f",
   "metadata": {},
   "outputs": [
    {
     "data": {
      "text/html": [
       "<div>\n",
       "<style scoped>\n",
       "    .dataframe tbody tr th:only-of-type {\n",
       "        vertical-align: middle;\n",
       "    }\n",
       "\n",
       "    .dataframe tbody tr th {\n",
       "        vertical-align: top;\n",
       "    }\n",
       "\n",
       "    .dataframe thead th {\n",
       "        text-align: right;\n",
       "    }\n",
       "</style>\n",
       "<table border=\"1\" class=\"dataframe\">\n",
       "  <thead>\n",
       "    <tr style=\"text-align: right;\">\n",
       "      <th></th>\n",
       "      <th>Date</th>\n",
       "      <th>Day</th>\n",
       "      <th>Type</th>\n",
       "      <th>Category</th>\n",
       "      <th>Debit Amount</th>\n",
       "      <th>Credit Amount</th>\n",
       "      <th>Closing Balance</th>\n",
       "    </tr>\n",
       "  </thead>\n",
       "  <tbody>\n",
       "    <tr>\n",
       "      <th>0</th>\n",
       "      <td>01-08-2018</td>\n",
       "      <td>Wednesday</td>\n",
       "      <td>Debit</td>\n",
       "      <td>Shopping</td>\n",
       "      <td>2500.00</td>\n",
       "      <td>0.0</td>\n",
       "      <td>174656.42</td>\n",
       "    </tr>\n",
       "    <tr>\n",
       "      <th>1</th>\n",
       "      <td>01-08-2018</td>\n",
       "      <td>Wednesday</td>\n",
       "      <td>Debit</td>\n",
       "      <td>Shopping</td>\n",
       "      <td>324.00</td>\n",
       "      <td>0.0</td>\n",
       "      <td>174332.42</td>\n",
       "    </tr>\n",
       "    <tr>\n",
       "      <th>2</th>\n",
       "      <td>02-08-2018</td>\n",
       "      <td>Thursday</td>\n",
       "      <td>NaN</td>\n",
       "      <td>NaN</td>\n",
       "      <td>0.00</td>\n",
       "      <td>0.0</td>\n",
       "      <td>174332.42</td>\n",
       "    </tr>\n",
       "    <tr>\n",
       "      <th>3</th>\n",
       "      <td>03-08-2018</td>\n",
       "      <td>Friday</td>\n",
       "      <td>Debit</td>\n",
       "      <td>Shopping</td>\n",
       "      <td>404.38</td>\n",
       "      <td>0.0</td>\n",
       "      <td>173928.04</td>\n",
       "    </tr>\n",
       "    <tr>\n",
       "      <th>4</th>\n",
       "      <td>04-08-2018</td>\n",
       "      <td>Saturday</td>\n",
       "      <td>Debit</td>\n",
       "      <td>Shopping</td>\n",
       "      <td>100.00</td>\n",
       "      <td>0.0</td>\n",
       "      <td>173828.04</td>\n",
       "    </tr>\n",
       "    <tr>\n",
       "      <th>...</th>\n",
       "      <td>...</td>\n",
       "      <td>...</td>\n",
       "      <td>...</td>\n",
       "      <td>...</td>\n",
       "      <td>...</td>\n",
       "      <td>...</td>\n",
       "      <td>...</td>\n",
       "    </tr>\n",
       "    <tr>\n",
       "      <th>102</th>\n",
       "      <td>29-09-2018</td>\n",
       "      <td>Saturday</td>\n",
       "      <td>Debit</td>\n",
       "      <td>Shopping</td>\n",
       "      <td>202.19</td>\n",
       "      <td>0.0</td>\n",
       "      <td>456539.63</td>\n",
       "    </tr>\n",
       "    <tr>\n",
       "      <th>103</th>\n",
       "      <td>30-09-2018</td>\n",
       "      <td>Sunday</td>\n",
       "      <td>Debit</td>\n",
       "      <td>Shopping</td>\n",
       "      <td>1185.00</td>\n",
       "      <td>0.0</td>\n",
       "      <td>455354.63</td>\n",
       "    </tr>\n",
       "    <tr>\n",
       "      <th>104</th>\n",
       "      <td>30-09-2018</td>\n",
       "      <td>Sunday</td>\n",
       "      <td>Debit</td>\n",
       "      <td>ATM</td>\n",
       "      <td>10000.00</td>\n",
       "      <td>0.0</td>\n",
       "      <td>445354.63</td>\n",
       "    </tr>\n",
       "    <tr>\n",
       "      <th>105</th>\n",
       "      <td>30-09-2018</td>\n",
       "      <td>Sunday</td>\n",
       "      <td>Debit</td>\n",
       "      <td>Medical</td>\n",
       "      <td>1155.75</td>\n",
       "      <td>0.0</td>\n",
       "      <td>444198.88</td>\n",
       "    </tr>\n",
       "    <tr>\n",
       "      <th>106</th>\n",
       "      <td>30-09-2018</td>\n",
       "      <td>Sunday</td>\n",
       "      <td>Credit</td>\n",
       "      <td>Interest</td>\n",
       "      <td>0.00</td>\n",
       "      <td>1673.0</td>\n",
       "      <td>445871.88</td>\n",
       "    </tr>\n",
       "  </tbody>\n",
       "</table>\n",
       "<p>107 rows × 7 columns</p>\n",
       "</div>"
      ],
      "text/plain": [
       "           Date        Day    Type  Category  Debit Amount  Credit Amount  \\\n",
       "0    01-08-2018  Wednesday   Debit  Shopping       2500.00            0.0   \n",
       "1    01-08-2018  Wednesday   Debit  Shopping        324.00            0.0   \n",
       "2    02-08-2018   Thursday     NaN       NaN          0.00            0.0   \n",
       "3    03-08-2018     Friday   Debit  Shopping        404.38            0.0   \n",
       "4    04-08-2018   Saturday   Debit  Shopping        100.00            0.0   \n",
       "..          ...        ...     ...       ...           ...            ...   \n",
       "102  29-09-2018   Saturday   Debit  Shopping        202.19            0.0   \n",
       "103  30-09-2018     Sunday   Debit  Shopping       1185.00            0.0   \n",
       "104  30-09-2018     Sunday   Debit       ATM      10000.00            0.0   \n",
       "105  30-09-2018     Sunday   Debit   Medical       1155.75            0.0   \n",
       "106  30-09-2018     Sunday  Credit  Interest          0.00         1673.0   \n",
       "\n",
       "     Closing Balance  \n",
       "0          174656.42  \n",
       "1          174332.42  \n",
       "2          174332.42  \n",
       "3          173928.04  \n",
       "4          173828.04  \n",
       "..               ...  \n",
       "102        456539.63  \n",
       "103        455354.63  \n",
       "104        445354.63  \n",
       "105        444198.88  \n",
       "106        445871.88  \n",
       "\n",
       "[107 rows x 7 columns]"
      ]
     },
     "execution_count": 3,
     "metadata": {},
     "output_type": "execute_result"
    }
   ],
   "source": [
    "df"
   ]
  },
  {
   "cell_type": "markdown",
   "id": "bc65c880",
   "metadata": {},
   "source": [
    "## Data Cleaning and Preprocessing"
   ]
  },
  {
   "cell_type": "markdown",
   "id": "2df58533",
   "metadata": {},
   "source": [
    "#### Checking null values"
   ]
  },
  {
   "cell_type": "code",
   "execution_count": 4,
   "id": "feb6d058",
   "metadata": {},
   "outputs": [
    {
     "data": {
      "text/plain": [
       "Date                0\n",
       "Day                 0\n",
       "Type               21\n",
       "Category           21\n",
       "Debit Amount        0\n",
       "Credit Amount       0\n",
       "Closing Balance     0\n",
       "dtype: int64"
      ]
     },
     "execution_count": 4,
     "metadata": {},
     "output_type": "execute_result"
    }
   ],
   "source": [
    "df.isnull().sum()"
   ]
  },
  {
   "cell_type": "markdown",
   "id": "7a497347",
   "metadata": {},
   "source": [
    "#### Replacing NaN values"
   ]
  },
  {
   "cell_type": "code",
   "execution_count": 5,
   "id": "6dbefcfe",
   "metadata": {},
   "outputs": [],
   "source": [
    "df['Type'].fillna('Unknown',inplace=True) "
   ]
  },
  {
   "cell_type": "code",
   "execution_count": 6,
   "id": "33ae880c",
   "metadata": {},
   "outputs": [],
   "source": [
    "df['Category'].fillna('Other',inplace=True)"
   ]
  },
  {
   "cell_type": "code",
   "execution_count": 7,
   "id": "99f4e6ad",
   "metadata": {},
   "outputs": [
    {
     "data": {
      "text/html": [
       "<div>\n",
       "<style scoped>\n",
       "    .dataframe tbody tr th:only-of-type {\n",
       "        vertical-align: middle;\n",
       "    }\n",
       "\n",
       "    .dataframe tbody tr th {\n",
       "        vertical-align: top;\n",
       "    }\n",
       "\n",
       "    .dataframe thead th {\n",
       "        text-align: right;\n",
       "    }\n",
       "</style>\n",
       "<table border=\"1\" class=\"dataframe\">\n",
       "  <thead>\n",
       "    <tr style=\"text-align: right;\">\n",
       "      <th></th>\n",
       "      <th>Date</th>\n",
       "      <th>Day</th>\n",
       "      <th>Type</th>\n",
       "      <th>Category</th>\n",
       "      <th>Debit Amount</th>\n",
       "      <th>Credit Amount</th>\n",
       "      <th>Closing Balance</th>\n",
       "    </tr>\n",
       "  </thead>\n",
       "  <tbody>\n",
       "    <tr>\n",
       "      <th>0</th>\n",
       "      <td>01-08-2018</td>\n",
       "      <td>Wednesday</td>\n",
       "      <td>Debit</td>\n",
       "      <td>Shopping</td>\n",
       "      <td>2500.00</td>\n",
       "      <td>0.0</td>\n",
       "      <td>174656.42</td>\n",
       "    </tr>\n",
       "    <tr>\n",
       "      <th>1</th>\n",
       "      <td>01-08-2018</td>\n",
       "      <td>Wednesday</td>\n",
       "      <td>Debit</td>\n",
       "      <td>Shopping</td>\n",
       "      <td>324.00</td>\n",
       "      <td>0.0</td>\n",
       "      <td>174332.42</td>\n",
       "    </tr>\n",
       "    <tr>\n",
       "      <th>2</th>\n",
       "      <td>02-08-2018</td>\n",
       "      <td>Thursday</td>\n",
       "      <td>Unknown</td>\n",
       "      <td>Other</td>\n",
       "      <td>0.00</td>\n",
       "      <td>0.0</td>\n",
       "      <td>174332.42</td>\n",
       "    </tr>\n",
       "    <tr>\n",
       "      <th>3</th>\n",
       "      <td>03-08-2018</td>\n",
       "      <td>Friday</td>\n",
       "      <td>Debit</td>\n",
       "      <td>Shopping</td>\n",
       "      <td>404.38</td>\n",
       "      <td>0.0</td>\n",
       "      <td>173928.04</td>\n",
       "    </tr>\n",
       "    <tr>\n",
       "      <th>4</th>\n",
       "      <td>04-08-2018</td>\n",
       "      <td>Saturday</td>\n",
       "      <td>Debit</td>\n",
       "      <td>Shopping</td>\n",
       "      <td>100.00</td>\n",
       "      <td>0.0</td>\n",
       "      <td>173828.04</td>\n",
       "    </tr>\n",
       "  </tbody>\n",
       "</table>\n",
       "</div>"
      ],
      "text/plain": [
       "         Date        Day     Type  Category  Debit Amount  Credit Amount  \\\n",
       "0  01-08-2018  Wednesday    Debit  Shopping       2500.00            0.0   \n",
       "1  01-08-2018  Wednesday    Debit  Shopping        324.00            0.0   \n",
       "2  02-08-2018   Thursday  Unknown     Other          0.00            0.0   \n",
       "3  03-08-2018     Friday    Debit  Shopping        404.38            0.0   \n",
       "4  04-08-2018   Saturday    Debit  Shopping        100.00            0.0   \n",
       "\n",
       "   Closing Balance  \n",
       "0        174656.42  \n",
       "1        174332.42  \n",
       "2        174332.42  \n",
       "3        173928.04  \n",
       "4        173828.04  "
      ]
     },
     "execution_count": 7,
     "metadata": {},
     "output_type": "execute_result"
    }
   ],
   "source": [
    "df.head()"
   ]
  },
  {
   "cell_type": "markdown",
   "id": "0b9c70ef",
   "metadata": {},
   "source": [
    "#### Changing Data type of Date column"
   ]
  },
  {
   "cell_type": "code",
   "execution_count": 8,
   "id": "2a2c5743",
   "metadata": {},
   "outputs": [
    {
     "data": {
      "text/plain": [
       "Date                object\n",
       "Day                 object\n",
       "Type                object\n",
       "Category            object\n",
       "Debit Amount       float64\n",
       "Credit Amount      float64\n",
       "Closing Balance    float64\n",
       "dtype: object"
      ]
     },
     "execution_count": 8,
     "metadata": {},
     "output_type": "execute_result"
    }
   ],
   "source": [
    "df.dtypes"
   ]
  },
  {
   "cell_type": "code",
   "execution_count": 9,
   "id": "e3753d1c",
   "metadata": {},
   "outputs": [],
   "source": [
    "from datetime import datetime"
   ]
  },
  {
   "cell_type": "code",
   "execution_count": 10,
   "id": "560c4e7c",
   "metadata": {},
   "outputs": [],
   "source": [
    "current_datetime = datetime.now()"
   ]
  },
  {
   "cell_type": "code",
   "execution_count": 11,
   "id": "474ca10f",
   "metadata": {},
   "outputs": [],
   "source": [
    "df['Date'] = current_datetime.strftime('%Y-%m-%d') #converting to year-month-day format"
   ]
  },
  {
   "cell_type": "code",
   "execution_count": 12,
   "id": "cf8bed74",
   "metadata": {},
   "outputs": [],
   "source": [
    "df['Date']  = pd.to_datetime(df['Date']) # converting to datetime format"
   ]
  },
  {
   "cell_type": "code",
   "execution_count": 13,
   "id": "7c939e01",
   "metadata": {},
   "outputs": [
    {
     "name": "stdout",
     "output_type": "stream",
     "text": [
      "<class 'pandas.core.frame.DataFrame'>\n",
      "RangeIndex: 107 entries, 0 to 106\n",
      "Data columns (total 7 columns):\n",
      " #   Column           Non-Null Count  Dtype         \n",
      "---  ------           --------------  -----         \n",
      " 0   Date             107 non-null    datetime64[ns]\n",
      " 1   Day              107 non-null    object        \n",
      " 2   Type             107 non-null    object        \n",
      " 3   Category         107 non-null    object        \n",
      " 4   Debit Amount     107 non-null    float64       \n",
      " 5   Credit Amount    107 non-null    float64       \n",
      " 6   Closing Balance  107 non-null    float64       \n",
      "dtypes: datetime64[ns](1), float64(3), object(3)\n",
      "memory usage: 6.0+ KB\n"
     ]
    }
   ],
   "source": [
    "df.info()"
   ]
  },
  {
   "cell_type": "markdown",
   "id": "dff53cf5",
   "metadata": {},
   "source": [
    "## Exploratory Data Analysis (EDA)"
   ]
  },
  {
   "cell_type": "markdown",
   "id": "e399f665",
   "metadata": {},
   "source": [
    "#### Calculating basic statistics to understand distribution of your data"
   ]
  },
  {
   "cell_type": "code",
   "execution_count": 14,
   "id": "cdb8d306",
   "metadata": {},
   "outputs": [
    {
     "data": {
      "text/plain": [
       "count      107.000000\n",
       "mean      2204.134019\n",
       "std       4051.645677\n",
       "min          0.000000\n",
       "25%          0.000000\n",
       "50%        410.000000\n",
       "75%       1961.000000\n",
       "max      20000.000000\n",
       "Name: Debit Amount, dtype: float64"
      ]
     },
     "execution_count": 14,
     "metadata": {},
     "output_type": "execute_result"
    }
   ],
   "source": [
    "df['Debit Amount'].describe()"
   ]
  },
  {
   "cell_type": "code",
   "execution_count": 15,
   "id": "59ebc4ba",
   "metadata": {},
   "outputs": [
    {
     "data": {
      "text/plain": [
       "count       107.000000\n",
       "mean       4715.493458\n",
       "std       34048.072860\n",
       "min           0.000000\n",
       "25%           0.000000\n",
       "50%           0.000000\n",
       "75%           0.000000\n",
       "max      250254.000000\n",
       "Name: Credit Amount, dtype: float64"
      ]
     },
     "execution_count": 15,
     "metadata": {},
     "output_type": "execute_result"
    }
   ],
   "source": [
    "df['Credit Amount'].describe()"
   ]
  },
  {
   "cell_type": "code",
   "execution_count": 16,
   "id": "2e068bc9",
   "metadata": {},
   "outputs": [
    {
     "data": {
      "text/plain": [
       "count       107.000000\n",
       "mean     188526.835701\n",
       "std      112446.990462\n",
       "min       29351.590000\n",
       "25%      115840.460000\n",
       "50%      172098.040000\n",
       "75%      231862.810000\n",
       "max      462101.010000\n",
       "Name: Closing Balance, dtype: float64"
      ]
     },
     "execution_count": 16,
     "metadata": {},
     "output_type": "execute_result"
    }
   ],
   "source": [
    "df['Closing Balance'].describe()"
   ]
  },
  {
   "cell_type": "markdown",
   "id": "eb9aa73a",
   "metadata": {},
   "source": [
    "## HANDLING OUTLIERS"
   ]
  },
  {
   "cell_type": "code",
   "execution_count": 17,
   "id": "dac26664",
   "metadata": {},
   "outputs": [
    {
     "data": {
      "image/png": "[encoded data removed]",
      "text/plain": [
       "<Figure size 1600x500 with 3 Axes>"
      ]
     },
     "metadata": {},
     "output_type": "display_data"
    }
   ],
   "source": [
    "plt.figure(figsize=(16,5))\n",
    "plt.subplot(1,3,1)\n",
    "sns.histplot(df['Debit Amount'])\n",
    "\n",
    "plt.subplot(1,3,2)\n",
    "sns.histplot(df['Credit Amount'])\n",
    "\n",
    "plt.subplot(1,3,3)\n",
    "sns.histplot(df['Closing Balance'])\n",
    "\n",
    "plt.show()"
   ]
  },
  {
   "cell_type": "code",
   "execution_count": 18,
   "id": "9c4cc953",
   "metadata": {},
   "outputs": [],
   "source": [
    "#Debit Amount percentile\n",
    "percentile25 = df['Debit Amount'].quantile(0.25) # lower bound\n",
    "percentile75 = df['Debit Amount'].quantile(0.75) # upper bound\n",
    "IQR = percentile75 - percentile25"
   ]
  },
  {
   "cell_type": "code",
   "execution_count": 19,
   "id": "6e11fa42",
   "metadata": {
    "scrolled": true
   },
   "outputs": [
    {
     "data": {
      "text/plain": [
       "1961.0"
      ]
     },
     "execution_count": 19,
     "metadata": {},
     "output_type": "execute_result"
    }
   ],
   "source": [
    "IQR"
   ]
  },
  {
   "cell_type": "code",
   "execution_count": 20,
   "id": "e673c1c1",
   "metadata": {},
   "outputs": [],
   "source": [
    "upper_limit = percentile75+1.5*IQR\n",
    "lower_limit = percentile25-1.5*IQR"
   ]
  },
  {
   "cell_type": "code",
   "execution_count": 21,
   "id": "26a73544",
   "metadata": {},
   "outputs": [
    {
     "name": "stdout",
     "output_type": "stream",
     "text": [
      "Upper Limit 4902.5\n",
      "Lower Limit -2941.5\n"
     ]
    }
   ],
   "source": [
    "print(\"Upper Limit\", upper_limit)\n",
    "print(\"Lower Limit\", lower_limit)"
   ]
  },
  {
   "cell_type": "code",
   "execution_count": 22,
   "id": "657ff339",
   "metadata": {},
   "outputs": [
    {
     "data": {
      "text/html": [
       "<div>\n",
       "<style scoped>\n",
       "    .dataframe tbody tr th:only-of-type {\n",
       "        vertical-align: middle;\n",
       "    }\n",
       "\n",
       "    .dataframe tbody tr th {\n",
       "        vertical-align: top;\n",
       "    }\n",
       "\n",
       "    .dataframe thead th {\n",
       "        text-align: right;\n",
       "    }\n",
       "</style>\n",
       "<table border=\"1\" class=\"dataframe\">\n",
       "  <thead>\n",
       "    <tr style=\"text-align: right;\">\n",
       "      <th></th>\n",
       "      <th>Date</th>\n",
       "      <th>Day</th>\n",
       "      <th>Type</th>\n",
       "      <th>Category</th>\n",
       "      <th>Debit Amount</th>\n",
       "      <th>Credit Amount</th>\n",
       "      <th>Closing Balance</th>\n",
       "    </tr>\n",
       "  </thead>\n",
       "  <tbody>\n",
       "    <tr>\n",
       "      <th>8</th>\n",
       "      <td>2024-07-27</td>\n",
       "      <td>Saturday</td>\n",
       "      <td>Debit</td>\n",
       "      <td>ATM</td>\n",
       "      <td>10000.0</td>\n",
       "      <td>0.0</td>\n",
       "      <td>162098.04</td>\n",
       "    </tr>\n",
       "    <tr>\n",
       "      <th>30</th>\n",
       "      <td>2024-07-27</td>\n",
       "      <td>Wednesday</td>\n",
       "      <td>Debit</td>\n",
       "      <td>ATM</td>\n",
       "      <td>10000.0</td>\n",
       "      <td>0.0</td>\n",
       "      <td>137250.98</td>\n",
       "    </tr>\n",
       "    <tr>\n",
       "      <th>31</th>\n",
       "      <td>2024-07-27</td>\n",
       "      <td>Thursday</td>\n",
       "      <td>Debit</td>\n",
       "      <td>Rent</td>\n",
       "      <td>14000.0</td>\n",
       "      <td>0.0</td>\n",
       "      <td>123250.98</td>\n",
       "    </tr>\n",
       "    <tr>\n",
       "      <th>34</th>\n",
       "      <td>2024-07-27</td>\n",
       "      <td>Saturday</td>\n",
       "      <td>Debit</td>\n",
       "      <td>Shopping</td>\n",
       "      <td>8400.0</td>\n",
       "      <td>0.0</td>\n",
       "      <td>111640.46</td>\n",
       "    </tr>\n",
       "    <tr>\n",
       "      <th>35</th>\n",
       "      <td>2024-07-27</td>\n",
       "      <td>Saturday</td>\n",
       "      <td>Debit</td>\n",
       "      <td>Shopping</td>\n",
       "      <td>8296.0</td>\n",
       "      <td>0.0</td>\n",
       "      <td>103344.46</td>\n",
       "    </tr>\n",
       "    <tr>\n",
       "      <th>36</th>\n",
       "      <td>2024-07-27</td>\n",
       "      <td>Saturday</td>\n",
       "      <td>Debit</td>\n",
       "      <td>Shopping</td>\n",
       "      <td>11610.0</td>\n",
       "      <td>0.0</td>\n",
       "      <td>91734.46</td>\n",
       "    </tr>\n",
       "    <tr>\n",
       "      <th>40</th>\n",
       "      <td>2024-07-27</td>\n",
       "      <td>Wednesday</td>\n",
       "      <td>Debit</td>\n",
       "      <td>ATM</td>\n",
       "      <td>10000.0</td>\n",
       "      <td>0.0</td>\n",
       "      <td>81343.46</td>\n",
       "    </tr>\n",
       "    <tr>\n",
       "      <th>41</th>\n",
       "      <td>2024-07-27</td>\n",
       "      <td>Thursday</td>\n",
       "      <td>Debit</td>\n",
       "      <td>Shopping</td>\n",
       "      <td>18777.0</td>\n",
       "      <td>0.0</td>\n",
       "      <td>62566.46</td>\n",
       "    </tr>\n",
       "    <tr>\n",
       "      <th>51</th>\n",
       "      <td>2024-07-27</td>\n",
       "      <td>Saturday</td>\n",
       "      <td>Debit</td>\n",
       "      <td>ATM</td>\n",
       "      <td>10000.0</td>\n",
       "      <td>0.0</td>\n",
       "      <td>48441.46</td>\n",
       "    </tr>\n",
       "    <tr>\n",
       "      <th>52</th>\n",
       "      <td>2024-07-27</td>\n",
       "      <td>Saturday</td>\n",
       "      <td>Debit</td>\n",
       "      <td>ATM</td>\n",
       "      <td>10000.0</td>\n",
       "      <td>0.0</td>\n",
       "      <td>38441.46</td>\n",
       "    </tr>\n",
       "    <tr>\n",
       "      <th>72</th>\n",
       "      <td>2024-07-27</td>\n",
       "      <td>Saturday</td>\n",
       "      <td>Debit</td>\n",
       "      <td>ATM</td>\n",
       "      <td>10000.0</td>\n",
       "      <td>0.0</td>\n",
       "      <td>265322.00</td>\n",
       "    </tr>\n",
       "    <tr>\n",
       "      <th>73</th>\n",
       "      <td>2024-07-27</td>\n",
       "      <td>Saturday</td>\n",
       "      <td>Debit</td>\n",
       "      <td>ATM</td>\n",
       "      <td>10000.0</td>\n",
       "      <td>0.0</td>\n",
       "      <td>255322.00</td>\n",
       "    </tr>\n",
       "    <tr>\n",
       "      <th>76</th>\n",
       "      <td>2024-07-27</td>\n",
       "      <td>Monday</td>\n",
       "      <td>Debit</td>\n",
       "      <td>Rent</td>\n",
       "      <td>20000.0</td>\n",
       "      <td>0.0</td>\n",
       "      <td>232065.00</td>\n",
       "    </tr>\n",
       "    <tr>\n",
       "      <th>82</th>\n",
       "      <td>2024-07-27</td>\n",
       "      <td>Saturday</td>\n",
       "      <td>Debit</td>\n",
       "      <td>Shopping</td>\n",
       "      <td>5089.0</td>\n",
       "      <td>0.0</td>\n",
       "      <td>226530.15</td>\n",
       "    </tr>\n",
       "    <tr>\n",
       "      <th>86</th>\n",
       "      <td>2024-07-27</td>\n",
       "      <td>Wednesday</td>\n",
       "      <td>Debit</td>\n",
       "      <td>ATM</td>\n",
       "      <td>10000.0</td>\n",
       "      <td>0.0</td>\n",
       "      <td>213979.54</td>\n",
       "    </tr>\n",
       "    <tr>\n",
       "      <th>104</th>\n",
       "      <td>2024-07-27</td>\n",
       "      <td>Sunday</td>\n",
       "      <td>Debit</td>\n",
       "      <td>ATM</td>\n",
       "      <td>10000.0</td>\n",
       "      <td>0.0</td>\n",
       "      <td>445354.63</td>\n",
       "    </tr>\n",
       "  </tbody>\n",
       "</table>\n",
       "</div>"
      ],
      "text/plain": [
       "          Date        Day   Type  Category  Debit Amount  Credit Amount  \\\n",
       "8   2024-07-27   Saturday  Debit       ATM       10000.0            0.0   \n",
       "30  2024-07-27  Wednesday  Debit       ATM       10000.0            0.0   \n",
       "31  2024-07-27   Thursday  Debit      Rent       14000.0            0.0   \n",
       "34  2024-07-27   Saturday  Debit  Shopping        8400.0            0.0   \n",
       "35  2024-07-27   Saturday  Debit  Shopping        8296.0            0.0   \n",
       "36  2024-07-27   Saturday  Debit  Shopping       11610.0            0.0   \n",
       "40  2024-07-27  Wednesday  Debit       ATM       10000.0            0.0   \n",
       "41  2024-07-27   Thursday  Debit  Shopping       18777.0            0.0   \n",
       "51  2024-07-27   Saturday  Debit       ATM       10000.0            0.0   \n",
       "52  2024-07-27   Saturday  Debit       ATM       10000.0            0.0   \n",
       "72  2024-07-27   Saturday  Debit       ATM       10000.0            0.0   \n",
       "73  2024-07-27   Saturday  Debit       ATM       10000.0            0.0   \n",
       "76  2024-07-27     Monday  Debit      Rent       20000.0            0.0   \n",
       "82  2024-07-27   Saturday  Debit  Shopping        5089.0            0.0   \n",
       "86  2024-07-27  Wednesday  Debit       ATM       10000.0            0.0   \n",
       "104 2024-07-27     Sunday  Debit       ATM       10000.0            0.0   \n",
       "\n",
       "     Closing Balance  \n",
       "8          162098.04  \n",
       "30         137250.98  \n",
       "31         123250.98  \n",
       "34         111640.46  \n",
       "35         103344.46  \n",
       "36          91734.46  \n",
       "40          81343.46  \n",
       "41          62566.46  \n",
       "51          48441.46  \n",
       "52          38441.46  \n",
       "72         265322.00  \n",
       "73         255322.00  \n",
       "76         232065.00  \n",
       "82         226530.15  \n",
       "86         213979.54  \n",
       "104        445354.63  "
      ]
     },
     "execution_count": 22,
     "metadata": {},
     "output_type": "execute_result"
    }
   ],
   "source": [
    "df[df['Debit Amount']>upper_limit]"
   ]
  },
  {
   "cell_type": "code",
   "execution_count": 23,
   "id": "884afb90",
   "metadata": {},
   "outputs": [
    {
     "data": {
      "text/html": [
       "<div>\n",
       "<style scoped>\n",
       "    .dataframe tbody tr th:only-of-type {\n",
       "        vertical-align: middle;\n",
       "    }\n",
       "\n",
       "    .dataframe tbody tr th {\n",
       "        vertical-align: top;\n",
       "    }\n",
       "\n",
       "    .dataframe thead th {\n",
       "        text-align: right;\n",
       "    }\n",
       "</style>\n",
       "<table border=\"1\" class=\"dataframe\">\n",
       "  <thead>\n",
       "    <tr style=\"text-align: right;\">\n",
       "      <th></th>\n",
       "      <th>Date</th>\n",
       "      <th>Day</th>\n",
       "      <th>Type</th>\n",
       "      <th>Category</th>\n",
       "      <th>Debit Amount</th>\n",
       "      <th>Credit Amount</th>\n",
       "      <th>Closing Balance</th>\n",
       "    </tr>\n",
       "  </thead>\n",
       "  <tbody>\n",
       "  </tbody>\n",
       "</table>\n",
       "</div>"
      ],
      "text/plain": [
       "Empty DataFrame\n",
       "Columns: [Date, Day, Type, Category, Debit Amount, Credit Amount, Closing Balance]\n",
       "Index: []"
      ]
     },
     "execution_count": 23,
     "metadata": {},
     "output_type": "execute_result"
    }
   ],
   "source": [
    "df[df['Debit Amount']<lower_limit]"
   ]
  },
  {
   "cell_type": "markdown",
   "id": "bf40baa2",
   "metadata": {},
   "source": [
    "## capping"
   ]
  },
  {
   "cell_type": "code",
   "execution_count": 24,
   "id": "00c5e6b5",
   "metadata": {},
   "outputs": [],
   "source": [
    "new_df_cap = df.copy()\n",
    "\n",
    "new_df_cap['Debit Amount'] = np.where(\n",
    "     new_df_cap['Debit Amount'] > upper_limit,\n",
    "    upper_limit,\n",
    "    np.where(\n",
    "         new_df_cap['Debit Amount']<lower_limit,\n",
    "        lower_limit,\n",
    "        new_df_cap['Debit Amount']\n",
    "    )\n",
    " )"
   ]
  },
  {
   "cell_type": "code",
   "execution_count": 25,
   "id": "864f640a",
   "metadata": {},
   "outputs": [
    {
     "data": {
      "text/plain": [
       "(107, 7)"
      ]
     },
     "execution_count": 25,
     "metadata": {},
     "output_type": "execute_result"
    }
   ],
   "source": [
    "new_df_cap.shape"
   ]
  },
  {
   "cell_type": "code",
   "execution_count": 26,
   "id": "4e958dbb",
   "metadata": {},
   "outputs": [
    {
     "data": {
      "image/png": "[encoded data removed]",
      "text/plain": [
       "<Figure size 1600x800 with 4 Axes>"
      ]
     },
     "metadata": {},
     "output_type": "display_data"
    }
   ],
   "source": [
    "#comparing\n",
    "\n",
    "plt.figure(figsize=(16,8))\n",
    "plt.subplot(2,2,1)\n",
    "sns.histplot(df['Debit Amount'])\n",
    "\n",
    "plt.subplot(2,2,2)\n",
    "sns.boxplot(df['Debit Amount'])\n",
    "\n",
    "plt.subplot(2,2,3)\n",
    "sns.histplot(new_df_cap['Debit Amount'])\n",
    "\n",
    "plt.subplot(2,2,4)\n",
    "sns.boxplot(new_df_cap['Debit Amount'])\n",
    "\n",
    "plt.show()"
   ]
  },
  {
   "cell_type": "code",
   "execution_count": 27,
   "id": "bae4789d",
   "metadata": {},
   "outputs": [],
   "source": [
    "# calculating the zscore\n",
    "df['creditAmount_zscore'] = (df['Credit Amount']-df['Credit Amount'].mean())/df['Credit Amount'].std()"
   ]
  },
  {
   "cell_type": "code",
   "execution_count": 28,
   "id": "b19c1b65",
   "metadata": {},
   "outputs": [
    {
     "data": {
      "text/html": [
       "<div>\n",
       "<style scoped>\n",
       "    .dataframe tbody tr th:only-of-type {\n",
       "        vertical-align: middle;\n",
       "    }\n",
       "\n",
       "    .dataframe tbody tr th {\n",
       "        vertical-align: top;\n",
       "    }\n",
       "\n",
       "    .dataframe thead th {\n",
       "        text-align: right;\n",
       "    }\n",
       "</style>\n",
       "<table border=\"1\" class=\"dataframe\">\n",
       "  <thead>\n",
       "    <tr style=\"text-align: right;\">\n",
       "      <th></th>\n",
       "      <th>Date</th>\n",
       "      <th>Day</th>\n",
       "      <th>Type</th>\n",
       "      <th>Category</th>\n",
       "      <th>Debit Amount</th>\n",
       "      <th>Credit Amount</th>\n",
       "      <th>Closing Balance</th>\n",
       "      <th>creditAmount_zscore</th>\n",
       "    </tr>\n",
       "  </thead>\n",
       "  <tbody>\n",
       "    <tr>\n",
       "      <th>0</th>\n",
       "      <td>2024-07-27</td>\n",
       "      <td>Wednesday</td>\n",
       "      <td>Debit</td>\n",
       "      <td>Shopping</td>\n",
       "      <td>2500.00</td>\n",
       "      <td>0.0</td>\n",
       "      <td>174656.42</td>\n",
       "      <td>-0.138495</td>\n",
       "    </tr>\n",
       "    <tr>\n",
       "      <th>1</th>\n",
       "      <td>2024-07-27</td>\n",
       "      <td>Wednesday</td>\n",
       "      <td>Debit</td>\n",
       "      <td>Shopping</td>\n",
       "      <td>324.00</td>\n",
       "      <td>0.0</td>\n",
       "      <td>174332.42</td>\n",
       "      <td>-0.138495</td>\n",
       "    </tr>\n",
       "    <tr>\n",
       "      <th>2</th>\n",
       "      <td>2024-07-27</td>\n",
       "      <td>Thursday</td>\n",
       "      <td>Unknown</td>\n",
       "      <td>Other</td>\n",
       "      <td>0.00</td>\n",
       "      <td>0.0</td>\n",
       "      <td>174332.42</td>\n",
       "      <td>-0.138495</td>\n",
       "    </tr>\n",
       "    <tr>\n",
       "      <th>3</th>\n",
       "      <td>2024-07-27</td>\n",
       "      <td>Friday</td>\n",
       "      <td>Debit</td>\n",
       "      <td>Shopping</td>\n",
       "      <td>404.38</td>\n",
       "      <td>0.0</td>\n",
       "      <td>173928.04</td>\n",
       "      <td>-0.138495</td>\n",
       "    </tr>\n",
       "    <tr>\n",
       "      <th>4</th>\n",
       "      <td>2024-07-27</td>\n",
       "      <td>Saturday</td>\n",
       "      <td>Debit</td>\n",
       "      <td>Shopping</td>\n",
       "      <td>100.00</td>\n",
       "      <td>0.0</td>\n",
       "      <td>173828.04</td>\n",
       "      <td>-0.138495</td>\n",
       "    </tr>\n",
       "  </tbody>\n",
       "</table>\n",
       "</div>"
      ],
      "text/plain": [
       "        Date        Day     Type  Category  Debit Amount  Credit Amount  \\\n",
       "0 2024-07-27  Wednesday    Debit  Shopping       2500.00            0.0   \n",
       "1 2024-07-27  Wednesday    Debit  Shopping        324.00            0.0   \n",
       "2 2024-07-27   Thursday  Unknown     Other          0.00            0.0   \n",
       "3 2024-07-27     Friday    Debit  Shopping        404.38            0.0   \n",
       "4 2024-07-27   Saturday    Debit  Shopping        100.00            0.0   \n",
       "\n",
       "   Closing Balance  creditAmount_zscore  \n",
       "0        174656.42            -0.138495  \n",
       "1        174332.42            -0.138495  \n",
       "2        174332.42            -0.138495  \n",
       "3        173928.04            -0.138495  \n",
       "4        173828.04            -0.138495  "
      ]
     },
     "execution_count": 28,
     "metadata": {},
     "output_type": "execute_result"
    }
   ],
   "source": [
    "df.head()"
   ]
  },
  {
   "cell_type": "code",
   "execution_count": 29,
   "id": "0ab1ddb0",
   "metadata": {},
   "outputs": [
    {
     "name": "stdout",
     "output_type": "stream",
     "text": [
      "Highest allowed 106859.71203880222\n",
      "Lowest allowed -97428.72512291436\n"
     ]
    }
   ],
   "source": [
    "# finding the boundary values\n",
    "print('Highest allowed',df['Credit Amount'].mean() + 3*df['Credit Amount'].std())\n",
    "print('Lowest allowed',df['Credit Amount'].mean() - 3*df['Credit Amount'].std())"
   ]
  },
  {
   "cell_type": "code",
   "execution_count": 30,
   "id": "84f2bdf4",
   "metadata": {},
   "outputs": [
    {
     "data": {
      "text/html": [
       "<div>\n",
       "<style scoped>\n",
       "    .dataframe tbody tr th:only-of-type {\n",
       "        vertical-align: middle;\n",
       "    }\n",
       "\n",
       "    .dataframe tbody tr th {\n",
       "        vertical-align: top;\n",
       "    }\n",
       "\n",
       "    .dataframe thead th {\n",
       "        text-align: right;\n",
       "    }\n",
       "</style>\n",
       "<table border=\"1\" class=\"dataframe\">\n",
       "  <thead>\n",
       "    <tr style=\"text-align: right;\">\n",
       "      <th></th>\n",
       "      <th>Date</th>\n",
       "      <th>Day</th>\n",
       "      <th>Type</th>\n",
       "      <th>Category</th>\n",
       "      <th>Debit Amount</th>\n",
       "      <th>Credit Amount</th>\n",
       "      <th>Closing Balance</th>\n",
       "      <th>creditAmount_zscore</th>\n",
       "    </tr>\n",
       "  </thead>\n",
       "  <tbody>\n",
       "    <tr>\n",
       "      <th>61</th>\n",
       "      <td>2024-07-27</td>\n",
       "      <td>Friday</td>\n",
       "      <td>Credit</td>\n",
       "      <td>Salary</td>\n",
       "      <td>0.0</td>\n",
       "      <td>250254.0</td>\n",
       "      <td>279605.59</td>\n",
       "      <td>7.211524</td>\n",
       "    </tr>\n",
       "    <tr>\n",
       "      <th>97</th>\n",
       "      <td>2024-07-27</td>\n",
       "      <td>Friday</td>\n",
       "      <td>Credit</td>\n",
       "      <td>Salary</td>\n",
       "      <td>0.0</td>\n",
       "      <td>250254.0</td>\n",
       "      <td>462101.01</td>\n",
       "      <td>7.211524</td>\n",
       "    </tr>\n",
       "  </tbody>\n",
       "</table>\n",
       "</div>"
      ],
      "text/plain": [
       "         Date     Day    Type Category  Debit Amount  Credit Amount  \\\n",
       "61 2024-07-27  Friday  Credit   Salary           0.0       250254.0   \n",
       "97 2024-07-27  Friday  Credit   Salary           0.0       250254.0   \n",
       "\n",
       "    Closing Balance  creditAmount_zscore  \n",
       "61        279605.59             7.211524  \n",
       "97        462101.01             7.211524  "
      ]
     },
     "execution_count": 30,
     "metadata": {},
     "output_type": "execute_result"
    }
   ],
   "source": [
    "# finding the outliers\n",
    "df[(df['Credit Amount']>106859.71) | (df['Credit Amount'] < -97428.72)]"
   ]
  },
  {
   "cell_type": "code",
   "execution_count": 31,
   "id": "5a6ba7a2",
   "metadata": {},
   "outputs": [
    {
     "data": {
      "image/png": "[encoded data removed]",
      "text/plain": [
       "<Figure size 500x300 with 1 Axes>"
      ]
     },
     "metadata": {},
     "output_type": "display_data"
    }
   ],
   "source": [
    "df.boxplot(column=['Credit Amount'], figsize=(5, 3)) #boxplot for credit amount\n",
    "plt.show()"
   ]
  },
  {
   "cell_type": "code",
   "execution_count": 32,
   "id": "240ee490",
   "metadata": {},
   "outputs": [
    {
     "data": {
      "image/png": "[encoded data removed]",
      "text/plain": [
       "<Figure size 640x480 with 1 Axes>"
      ]
     },
     "metadata": {},
     "output_type": "display_data"
    }
   ],
   "source": [
    "plt.hist(df['Debit Amount'],bins=10,color=\"darkblue\",edgecolor='black') # plotting histogram for debit amount\n",
    "plt.title('Debit Amount')\n",
    "plt.xlabel('Debit Amount')\n",
    "plt.ylabel('Count')\n",
    "plt.show()"
   ]
  },
  {
   "cell_type": "code",
   "execution_count": 33,
   "id": "81ce5555",
   "metadata": {},
   "outputs": [],
   "source": [
    "df['DebitAmount_zscore']=(df['Debit Amount']-df['Debit Amount'].mean())/df['Debit Amount'].std()"
   ]
  },
  {
   "cell_type": "code",
   "execution_count": 34,
   "id": "5dc0cd91",
   "metadata": {},
   "outputs": [
    {
     "data": {
      "text/html": [
       "<div>\n",
       "<style scoped>\n",
       "    .dataframe tbody tr th:only-of-type {\n",
       "        vertical-align: middle;\n",
       "    }\n",
       "\n",
       "    .dataframe tbody tr th {\n",
       "        vertical-align: top;\n",
       "    }\n",
       "\n",
       "    .dataframe thead th {\n",
       "        text-align: right;\n",
       "    }\n",
       "</style>\n",
       "<table border=\"1\" class=\"dataframe\">\n",
       "  <thead>\n",
       "    <tr style=\"text-align: right;\">\n",
       "      <th></th>\n",
       "      <th>Date</th>\n",
       "      <th>Day</th>\n",
       "      <th>Type</th>\n",
       "      <th>Category</th>\n",
       "      <th>Debit Amount</th>\n",
       "      <th>Credit Amount</th>\n",
       "      <th>Closing Balance</th>\n",
       "      <th>creditAmount_zscore</th>\n",
       "      <th>DebitAmount_zscore</th>\n",
       "    </tr>\n",
       "  </thead>\n",
       "  <tbody>\n",
       "    <tr>\n",
       "      <th>0</th>\n",
       "      <td>2024-07-27</td>\n",
       "      <td>Wednesday</td>\n",
       "      <td>Debit</td>\n",
       "      <td>Shopping</td>\n",
       "      <td>2500.00</td>\n",
       "      <td>0.0</td>\n",
       "      <td>174656.42</td>\n",
       "      <td>-0.138495</td>\n",
       "      <td>0.073024</td>\n",
       "    </tr>\n",
       "    <tr>\n",
       "      <th>1</th>\n",
       "      <td>2024-07-27</td>\n",
       "      <td>Wednesday</td>\n",
       "      <td>Debit</td>\n",
       "      <td>Shopping</td>\n",
       "      <td>324.00</td>\n",
       "      <td>0.0</td>\n",
       "      <td>174332.42</td>\n",
       "      <td>-0.138495</td>\n",
       "      <td>-0.464042</td>\n",
       "    </tr>\n",
       "    <tr>\n",
       "      <th>2</th>\n",
       "      <td>2024-07-27</td>\n",
       "      <td>Thursday</td>\n",
       "      <td>Unknown</td>\n",
       "      <td>Other</td>\n",
       "      <td>0.00</td>\n",
       "      <td>0.0</td>\n",
       "      <td>174332.42</td>\n",
       "      <td>-0.138495</td>\n",
       "      <td>-0.544010</td>\n",
       "    </tr>\n",
       "    <tr>\n",
       "      <th>3</th>\n",
       "      <td>2024-07-27</td>\n",
       "      <td>Friday</td>\n",
       "      <td>Debit</td>\n",
       "      <td>Shopping</td>\n",
       "      <td>404.38</td>\n",
       "      <td>0.0</td>\n",
       "      <td>173928.04</td>\n",
       "      <td>-0.138495</td>\n",
       "      <td>-0.444203</td>\n",
       "    </tr>\n",
       "    <tr>\n",
       "      <th>4</th>\n",
       "      <td>2024-07-27</td>\n",
       "      <td>Saturday</td>\n",
       "      <td>Debit</td>\n",
       "      <td>Shopping</td>\n",
       "      <td>100.00</td>\n",
       "      <td>0.0</td>\n",
       "      <td>173828.04</td>\n",
       "      <td>-0.138495</td>\n",
       "      <td>-0.519328</td>\n",
       "    </tr>\n",
       "  </tbody>\n",
       "</table>\n",
       "</div>"
      ],
      "text/plain": [
       "        Date        Day     Type  Category  Debit Amount  Credit Amount  \\\n",
       "0 2024-07-27  Wednesday    Debit  Shopping       2500.00            0.0   \n",
       "1 2024-07-27  Wednesday    Debit  Shopping        324.00            0.0   \n",
       "2 2024-07-27   Thursday  Unknown     Other          0.00            0.0   \n",
       "3 2024-07-27     Friday    Debit  Shopping        404.38            0.0   \n",
       "4 2024-07-27   Saturday    Debit  Shopping        100.00            0.0   \n",
       "\n",
       "   Closing Balance  creditAmount_zscore  DebitAmount_zscore  \n",
       "0        174656.42            -0.138495            0.073024  \n",
       "1        174332.42            -0.138495           -0.464042  \n",
       "2        174332.42            -0.138495           -0.544010  \n",
       "3        173928.04            -0.138495           -0.444203  \n",
       "4        173828.04            -0.138495           -0.519328  "
      ]
     },
     "execution_count": 34,
     "metadata": {},
     "output_type": "execute_result"
    }
   ],
   "source": [
    "df.head()"
   ]
  },
  {
   "cell_type": "code",
   "execution_count": 35,
   "id": "9378fda3",
   "metadata": {},
   "outputs": [
    {
     "data": {
      "text/html": [
       "<div>\n",
       "<style scoped>\n",
       "    .dataframe tbody tr th:only-of-type {\n",
       "        vertical-align: middle;\n",
       "    }\n",
       "\n",
       "    .dataframe tbody tr th {\n",
       "        vertical-align: top;\n",
       "    }\n",
       "\n",
       "    .dataframe thead th {\n",
       "        text-align: right;\n",
       "    }\n",
       "</style>\n",
       "<table border=\"1\" class=\"dataframe\">\n",
       "  <thead>\n",
       "    <tr style=\"text-align: right;\">\n",
       "      <th></th>\n",
       "      <th>Date</th>\n",
       "      <th>Day</th>\n",
       "      <th>Type</th>\n",
       "      <th>Category</th>\n",
       "      <th>Debit Amount</th>\n",
       "      <th>Credit Amount</th>\n",
       "      <th>Closing Balance</th>\n",
       "      <th>creditAmount_zscore</th>\n",
       "      <th>DebitAmount_zscore</th>\n",
       "    </tr>\n",
       "  </thead>\n",
       "  <tbody>\n",
       "  </tbody>\n",
       "</table>\n",
       "</div>"
      ],
      "text/plain": [
       "Empty DataFrame\n",
       "Columns: [Date, Day, Type, Category, Debit Amount, Credit Amount, Closing Balance, creditAmount_zscore, DebitAmount_zscore]\n",
       "Index: []"
      ]
     },
     "execution_count": 35,
     "metadata": {},
     "output_type": "execute_result"
    }
   ],
   "source": [
    "df[df['DebitAmount_zscore']<-3]"
   ]
  },
  {
   "cell_type": "code",
   "execution_count": 36,
   "id": "1fc06c89",
   "metadata": {},
   "outputs": [
    {
     "data": {
      "text/html": [
       "<div>\n",
       "<style scoped>\n",
       "    .dataframe tbody tr th:only-of-type {\n",
       "        vertical-align: middle;\n",
       "    }\n",
       "\n",
       "    .dataframe tbody tr th {\n",
       "        vertical-align: top;\n",
       "    }\n",
       "\n",
       "    .dataframe thead th {\n",
       "        text-align: right;\n",
       "    }\n",
       "</style>\n",
       "<table border=\"1\" class=\"dataframe\">\n",
       "  <thead>\n",
       "    <tr style=\"text-align: right;\">\n",
       "      <th></th>\n",
       "      <th>Date</th>\n",
       "      <th>Day</th>\n",
       "      <th>Type</th>\n",
       "      <th>Category</th>\n",
       "      <th>Debit Amount</th>\n",
       "      <th>Credit Amount</th>\n",
       "      <th>Closing Balance</th>\n",
       "      <th>creditAmount_zscore</th>\n",
       "      <th>DebitAmount_zscore</th>\n",
       "    </tr>\n",
       "  </thead>\n",
       "  <tbody>\n",
       "    <tr>\n",
       "      <th>41</th>\n",
       "      <td>2024-07-27</td>\n",
       "      <td>Thursday</td>\n",
       "      <td>Debit</td>\n",
       "      <td>Shopping</td>\n",
       "      <td>18777.0</td>\n",
       "      <td>0.0</td>\n",
       "      <td>62566.46</td>\n",
       "      <td>-0.138495</td>\n",
       "      <td>4.090404</td>\n",
       "    </tr>\n",
       "    <tr>\n",
       "      <th>76</th>\n",
       "      <td>2024-07-27</td>\n",
       "      <td>Monday</td>\n",
       "      <td>Debit</td>\n",
       "      <td>Rent</td>\n",
       "      <td>20000.0</td>\n",
       "      <td>0.0</td>\n",
       "      <td>232065.00</td>\n",
       "      <td>-0.138495</td>\n",
       "      <td>4.392256</td>\n",
       "    </tr>\n",
       "  </tbody>\n",
       "</table>\n",
       "</div>"
      ],
      "text/plain": [
       "         Date       Day   Type  Category  Debit Amount  Credit Amount  \\\n",
       "41 2024-07-27  Thursday  Debit  Shopping       18777.0            0.0   \n",
       "76 2024-07-27    Monday  Debit      Rent       20000.0            0.0   \n",
       "\n",
       "    Closing Balance  creditAmount_zscore  DebitAmount_zscore  \n",
       "41         62566.46            -0.138495            4.090404  \n",
       "76        232065.00            -0.138495            4.392256  "
      ]
     },
     "execution_count": 36,
     "metadata": {},
     "output_type": "execute_result"
    }
   ],
   "source": [
    "df[(df['DebitAmount_zscore']>3) | (df['DebitAmount_zscore']<-3)]"
   ]
  },
  {
   "cell_type": "code",
   "execution_count": 37,
   "id": "06ad9b24",
   "metadata": {},
   "outputs": [],
   "source": [
    "Q1 = df['Debit Amount'].quantile(0.25) # lower bound\n",
    "Q3 = df['Debit Amount'].quantile(0.75) # upper bound\n",
    "IQR = Q3 - Q1"
   ]
  },
  {
   "cell_type": "code",
   "execution_count": 38,
   "id": "905a41ca",
   "metadata": {},
   "outputs": [
    {
     "data": {
      "text/plain": [
       "7.208433096011867"
      ]
     },
     "execution_count": 38,
     "metadata": {},
     "output_type": "execute_result"
    }
   ],
   "source": [
    "df['Credit Amount'].skew()"
   ]
  },
  {
   "cell_type": "code",
   "execution_count": 39,
   "id": "2993df66",
   "metadata": {},
   "outputs": [
    {
     "data": {
      "text/plain": [
       "2.434506437737525"
      ]
     },
     "execution_count": 39,
     "metadata": {},
     "output_type": "execute_result"
    }
   ],
   "source": [
    "df['Debit Amount'].skew()"
   ]
  },
  {
   "cell_type": "code",
   "execution_count": 40,
   "id": "359f5053",
   "metadata": {},
   "outputs": [
    {
     "data": {
      "text/plain": [
       "0.9000569539502884"
      ]
     },
     "execution_count": 40,
     "metadata": {},
     "output_type": "execute_result"
    }
   ],
   "source": [
    "df['Closing Balance'].skew()"
   ]
  },
  {
   "cell_type": "code",
   "execution_count": 41,
   "id": "358ce105",
   "metadata": {},
   "outputs": [
    {
     "data": {
      "image/png": "[encoded data removed]",
      "text/plain": [
       "<Figure size 640x480 with 1 Axes>"
      ]
     },
     "metadata": {},
     "output_type": "display_data"
    }
   ],
   "source": [
    "plt.hist(df['Closing Balance'],bins=10,color=\"green\",edgecolor='black') #histogram for closing balance\n",
    "plt.title('Closing balance')\n",
    "plt.xlabel('Closing balance')\n",
    "plt.ylabel('Count')\n",
    "plt.show()"
   ]
  },
  {
   "cell_type": "code",
   "execution_count": 42,
   "id": "71dd0ee0",
   "metadata": {},
   "outputs": [],
   "source": [
    "Q1 = df['Closing Balance'].quantile(0.25) # lower bound\n",
    "Q3 = df['Closing Balance'].quantile(0.75) # upper bound\n",
    "IQR = Q3 - Q1"
   ]
  },
  {
   "cell_type": "code",
   "execution_count": 43,
   "id": "dd97ffbf",
   "metadata": {},
   "outputs": [
    {
     "data": {
      "image/png": "[encoded data removed]",
      "text/plain": [
       "<Figure size 500x300 with 1 Axes>"
      ]
     },
     "metadata": {},
     "output_type": "display_data"
    }
   ],
   "source": [
    "df.boxplot(column=['Closing Balance'], figsize=(5, 3)) # box plot for closing balance\n",
    "plt.show()"
   ]
  },
  {
   "cell_type": "markdown",
   "id": "61b3e5d9",
   "metadata": {},
   "source": [
    "#### Frequency of Type and category analysing"
   ]
  },
  {
   "cell_type": "code",
   "execution_count": 44,
   "id": "bc7695f3",
   "metadata": {},
   "outputs": [
    {
     "data": {
      "text/plain": [
       "Type\n",
       "Debit      76\n",
       "Unknown    21\n",
       "Credit     10\n",
       "Name: count, dtype: int64"
      ]
     },
     "execution_count": 44,
     "metadata": {},
     "output_type": "execute_result"
    }
   ],
   "source": [
    "df['Type'].value_counts() # returns the unique values count of Type"
   ]
  },
  {
   "cell_type": "code",
   "execution_count": 45,
   "id": "57c51121",
   "metadata": {},
   "outputs": [
    {
     "data": {
      "text/plain": [
       "Category\n",
       "Shopping         46\n",
       "Other            21\n",
       "ATM               9\n",
       "Interest          8\n",
       "Entertainment     7\n",
       "Medical           5\n",
       "Travel            4\n",
       "Restaurant        3\n",
       "Rent              2\n",
       "Salary            2\n",
       "Name: count, dtype: int64"
      ]
     },
     "execution_count": 45,
     "metadata": {},
     "output_type": "execute_result"
    }
   ],
   "source": [
    "df['Category'].value_counts() # returns the unique values count of category"
   ]
  },
  {
   "cell_type": "markdown",
   "id": "7ee445b1",
   "metadata": {},
   "source": [
    "## Category-wise Analysis"
   ]
  },
  {
   "cell_type": "code",
   "execution_count": 46,
   "id": "b5e76bb9",
   "metadata": {},
   "outputs": [
    {
     "data": {
      "text/html": [
       "<div>\n",
       "<style scoped>\n",
       "    .dataframe tbody tr th:only-of-type {\n",
       "        vertical-align: middle;\n",
       "    }\n",
       "\n",
       "    .dataframe tbody tr th {\n",
       "        vertical-align: top;\n",
       "    }\n",
       "\n",
       "    .dataframe thead th {\n",
       "        text-align: right;\n",
       "    }\n",
       "</style>\n",
       "<table border=\"1\" class=\"dataframe\">\n",
       "  <thead>\n",
       "    <tr style=\"text-align: right;\">\n",
       "      <th></th>\n",
       "      <th>Date</th>\n",
       "      <th>Day</th>\n",
       "      <th>Type</th>\n",
       "      <th>Category</th>\n",
       "      <th>Debit Amount</th>\n",
       "      <th>Credit Amount</th>\n",
       "      <th>Closing Balance</th>\n",
       "      <th>creditAmount_zscore</th>\n",
       "      <th>DebitAmount_zscore</th>\n",
       "    </tr>\n",
       "  </thead>\n",
       "  <tbody>\n",
       "    <tr>\n",
       "      <th>0</th>\n",
       "      <td>2024-07-27</td>\n",
       "      <td>Wednesday</td>\n",
       "      <td>Debit</td>\n",
       "      <td>Shopping</td>\n",
       "      <td>2500.00</td>\n",
       "      <td>0.0</td>\n",
       "      <td>174656.42</td>\n",
       "      <td>-0.138495</td>\n",
       "      <td>0.073024</td>\n",
       "    </tr>\n",
       "    <tr>\n",
       "      <th>1</th>\n",
       "      <td>2024-07-27</td>\n",
       "      <td>Wednesday</td>\n",
       "      <td>Debit</td>\n",
       "      <td>Shopping</td>\n",
       "      <td>324.00</td>\n",
       "      <td>0.0</td>\n",
       "      <td>174332.42</td>\n",
       "      <td>-0.138495</td>\n",
       "      <td>-0.464042</td>\n",
       "    </tr>\n",
       "    <tr>\n",
       "      <th>2</th>\n",
       "      <td>2024-07-27</td>\n",
       "      <td>Thursday</td>\n",
       "      <td>Unknown</td>\n",
       "      <td>Other</td>\n",
       "      <td>0.00</td>\n",
       "      <td>0.0</td>\n",
       "      <td>174332.42</td>\n",
       "      <td>-0.138495</td>\n",
       "      <td>-0.544010</td>\n",
       "    </tr>\n",
       "    <tr>\n",
       "      <th>3</th>\n",
       "      <td>2024-07-27</td>\n",
       "      <td>Friday</td>\n",
       "      <td>Debit</td>\n",
       "      <td>Shopping</td>\n",
       "      <td>404.38</td>\n",
       "      <td>0.0</td>\n",
       "      <td>173928.04</td>\n",
       "      <td>-0.138495</td>\n",
       "      <td>-0.444203</td>\n",
       "    </tr>\n",
       "    <tr>\n",
       "      <th>4</th>\n",
       "      <td>2024-07-27</td>\n",
       "      <td>Saturday</td>\n",
       "      <td>Debit</td>\n",
       "      <td>Shopping</td>\n",
       "      <td>100.00</td>\n",
       "      <td>0.0</td>\n",
       "      <td>173828.04</td>\n",
       "      <td>-0.138495</td>\n",
       "      <td>-0.519328</td>\n",
       "    </tr>\n",
       "  </tbody>\n",
       "</table>\n",
       "</div>"
      ],
      "text/plain": [
       "        Date        Day     Type  Category  Debit Amount  Credit Amount  \\\n",
       "0 2024-07-27  Wednesday    Debit  Shopping       2500.00            0.0   \n",
       "1 2024-07-27  Wednesday    Debit  Shopping        324.00            0.0   \n",
       "2 2024-07-27   Thursday  Unknown     Other          0.00            0.0   \n",
       "3 2024-07-27     Friday    Debit  Shopping        404.38            0.0   \n",
       "4 2024-07-27   Saturday    Debit  Shopping        100.00            0.0   \n",
       "\n",
       "   Closing Balance  creditAmount_zscore  DebitAmount_zscore  \n",
       "0        174656.42            -0.138495            0.073024  \n",
       "1        174332.42            -0.138495           -0.464042  \n",
       "2        174332.42            -0.138495           -0.544010  \n",
       "3        173928.04            -0.138495           -0.444203  \n",
       "4        173828.04            -0.138495           -0.519328  "
      ]
     },
     "execution_count": 46,
     "metadata": {},
     "output_type": "execute_result"
    }
   ],
   "source": [
    "df.head()"
   ]
  },
  {
   "cell_type": "code",
   "execution_count": 47,
   "id": "eb69b73f",
   "metadata": {},
   "outputs": [
    {
     "data": {
      "image/png": "[encoded data removed]",
      "text/plain": [
       "<Figure size 1000x600 with 1 Axes>"
      ]
     },
     "metadata": {},
     "output_type": "display_data"
    }
   ],
   "source": [
    "# bar plot for category on x-axis and credit amount on y-axis\n",
    "\n",
    "plt.figure(figsize=(10, 6))\n",
    "sns.barplot(x=df['Category'], y=df['Credit Amount'], palette='viridis') \n",
    "plt.title('Credit Amount by Category')\n",
    "plt.xlabel('Category')\n",
    "plt.ylabel('Credit Amount')\n",
    "plt.xticks(rotation=45, ha='right')\n",
    "plt.tight_layout()\n",
    "plt.show()"
   ]
  },
  {
   "cell_type": "code",
   "execution_count": 48,
   "id": "59772d7f",
   "metadata": {},
   "outputs": [
    {
     "data": {
      "image/png": "[encoded data removed]",
      "text/plain": [
       "<Figure size 1000x600 with 1 Axes>"
      ]
     },
     "metadata": {},
     "output_type": "display_data"
    }
   ],
   "source": [
    "# bar plot for category on x-axis and debit amount on y-axis\n",
    "\n",
    "plt.figure(figsize=(10, 6))\n",
    "sns.barplot(x=df['Category'], y=df['Debit Amount'], palette='viridis')\n",
    "plt.title('Debit Amount by Category')\n",
    "plt.xlabel('Category')\n",
    "plt.ylabel('Debit Amount')\n",
    "plt.xticks(rotation=45, ha='right')\n",
    "plt.tight_layout()\n",
    "plt.show()"
   ]
  },
  {
   "cell_type": "code",
   "execution_count": 49,
   "id": "dcd85b8d",
   "metadata": {},
   "outputs": [
    {
     "data": {
      "image/png": "[encoded data removed]",
      "text/plain": [
       "<Figure size 1000x600 with 1 Axes>"
      ]
     },
     "metadata": {},
     "output_type": "display_data"
    }
   ],
   "source": [
    "# bar plot for category on x-axis and closing balance on y-axis\n",
    "\n",
    "plt.figure(figsize=(10, 6))\n",
    "sns.barplot(x=df['Category'], y=df['Closing Balance'], palette='viridis')\n",
    "plt.title('Closing Balance by Category')\n",
    "plt.xlabel('Category')\n",
    "plt.ylabel('Closing Balance')\n",
    "plt.xticks(rotation=45, ha='right')\n",
    "plt.tight_layout()\n",
    "plt.show()"
   ]
  },
  {
   "cell_type": "markdown",
   "id": "6d504ce0",
   "metadata": {},
   "source": [
    "#### Top 3 spending categories"
   ]
  },
  {
   "cell_type": "code",
   "execution_count": 50,
   "id": "663f1f90",
   "metadata": {},
   "outputs": [],
   "source": [
    "category_spending = df.groupby('Category')['Debit Amount'].sum().sort_values(ascending=False)"
   ]
  },
  {
   "cell_type": "code",
   "execution_count": 51,
   "id": "2558cc6d",
   "metadata": {},
   "outputs": [],
   "source": [
    "top_categories = category_spending.head(3) # top 3 categories"
   ]
  },
  {
   "cell_type": "code",
   "execution_count": 52,
   "id": "5efbc5e3",
   "metadata": {},
   "outputs": [
    {
     "data": {
      "image/png": "[encoded data removed]",
      "text/plain": [
       "<Figure size 500x300 with 1 Axes>"
      ]
     },
     "metadata": {},
     "output_type": "display_data"
    }
   ],
   "source": [
    "# bar graph for top 3 spending categories\n",
    "\n",
    "plt.figure(figsize=(5, 3))\n",
    "top_categories.plot(kind='bar')\n",
    "plt.title('Top Spending Categories')\n",
    "plt.xlabel('Category')\n",
    "plt.ylabel('Total Spending')\n",
    "plt.xticks(rotation=45, ha='right')\n",
    "plt.tight_layout()\n",
    "plt.show()"
   ]
  },
  {
   "cell_type": "markdown",
   "id": "581b54f5",
   "metadata": {},
   "source": [
    "## Financial Health Assessment"
   ]
  },
  {
   "cell_type": "code",
   "execution_count": 53,
   "id": "2084055c",
   "metadata": {},
   "outputs": [],
   "source": [
    "df['Month'] = df['Date'].dt.to_period('M') #extracting month from date column"
   ]
  },
  {
   "cell_type": "code",
   "execution_count": 54,
   "id": "f70f8ea0",
   "metadata": {},
   "outputs": [
    {
     "data": {
      "text/html": [
       "<div>\n",
       "<style scoped>\n",
       "    .dataframe tbody tr th:only-of-type {\n",
       "        vertical-align: middle;\n",
       "    }\n",
       "\n",
       "    .dataframe tbody tr th {\n",
       "        vertical-align: top;\n",
       "    }\n",
       "\n",
       "    .dataframe thead th {\n",
       "        text-align: right;\n",
       "    }\n",
       "</style>\n",
       "<table border=\"1\" class=\"dataframe\">\n",
       "  <thead>\n",
       "    <tr style=\"text-align: right;\">\n",
       "      <th></th>\n",
       "      <th>Date</th>\n",
       "      <th>Day</th>\n",
       "      <th>Type</th>\n",
       "      <th>Category</th>\n",
       "      <th>Debit Amount</th>\n",
       "      <th>Credit Amount</th>\n",
       "      <th>Closing Balance</th>\n",
       "      <th>creditAmount_zscore</th>\n",
       "      <th>DebitAmount_zscore</th>\n",
       "      <th>Month</th>\n",
       "    </tr>\n",
       "  </thead>\n",
       "  <tbody>\n",
       "    <tr>\n",
       "      <th>0</th>\n",
       "      <td>2024-07-27</td>\n",
       "      <td>Wednesday</td>\n",
       "      <td>Debit</td>\n",
       "      <td>Shopping</td>\n",
       "      <td>2500.00</td>\n",
       "      <td>0.0</td>\n",
       "      <td>174656.42</td>\n",
       "      <td>-0.138495</td>\n",
       "      <td>0.073024</td>\n",
       "      <td>2024-07</td>\n",
       "    </tr>\n",
       "    <tr>\n",
       "      <th>1</th>\n",
       "      <td>2024-07-27</td>\n",
       "      <td>Wednesday</td>\n",
       "      <td>Debit</td>\n",
       "      <td>Shopping</td>\n",
       "      <td>324.00</td>\n",
       "      <td>0.0</td>\n",
       "      <td>174332.42</td>\n",
       "      <td>-0.138495</td>\n",
       "      <td>-0.464042</td>\n",
       "      <td>2024-07</td>\n",
       "    </tr>\n",
       "    <tr>\n",
       "      <th>2</th>\n",
       "      <td>2024-07-27</td>\n",
       "      <td>Thursday</td>\n",
       "      <td>Unknown</td>\n",
       "      <td>Other</td>\n",
       "      <td>0.00</td>\n",
       "      <td>0.0</td>\n",
       "      <td>174332.42</td>\n",
       "      <td>-0.138495</td>\n",
       "      <td>-0.544010</td>\n",
       "      <td>2024-07</td>\n",
       "    </tr>\n",
       "    <tr>\n",
       "      <th>3</th>\n",
       "      <td>2024-07-27</td>\n",
       "      <td>Friday</td>\n",
       "      <td>Debit</td>\n",
       "      <td>Shopping</td>\n",
       "      <td>404.38</td>\n",
       "      <td>0.0</td>\n",
       "      <td>173928.04</td>\n",
       "      <td>-0.138495</td>\n",
       "      <td>-0.444203</td>\n",
       "      <td>2024-07</td>\n",
       "    </tr>\n",
       "    <tr>\n",
       "      <th>4</th>\n",
       "      <td>2024-07-27</td>\n",
       "      <td>Saturday</td>\n",
       "      <td>Debit</td>\n",
       "      <td>Shopping</td>\n",
       "      <td>100.00</td>\n",
       "      <td>0.0</td>\n",
       "      <td>173828.04</td>\n",
       "      <td>-0.138495</td>\n",
       "      <td>-0.519328</td>\n",
       "      <td>2024-07</td>\n",
       "    </tr>\n",
       "  </tbody>\n",
       "</table>\n",
       "</div>"
      ],
      "text/plain": [
       "        Date        Day     Type  Category  Debit Amount  Credit Amount  \\\n",
       "0 2024-07-27  Wednesday    Debit  Shopping       2500.00            0.0   \n",
       "1 2024-07-27  Wednesday    Debit  Shopping        324.00            0.0   \n",
       "2 2024-07-27   Thursday  Unknown     Other          0.00            0.0   \n",
       "3 2024-07-27     Friday    Debit  Shopping        404.38            0.0   \n",
       "4 2024-07-27   Saturday    Debit  Shopping        100.00            0.0   \n",
       "\n",
       "   Closing Balance  creditAmount_zscore  DebitAmount_zscore    Month  \n",
       "0        174656.42            -0.138495            0.073024  2024-07  \n",
       "1        174332.42            -0.138495           -0.464042  2024-07  \n",
       "2        174332.42            -0.138495           -0.544010  2024-07  \n",
       "3        173928.04            -0.138495           -0.444203  2024-07  \n",
       "4        173828.04            -0.138495           -0.519328  2024-07  "
      ]
     },
     "execution_count": 54,
     "metadata": {},
     "output_type": "execute_result"
    }
   ],
   "source": [
    "df.head()"
   ]
  },
  {
   "cell_type": "code",
   "execution_count": 55,
   "id": "419a835b",
   "metadata": {},
   "outputs": [],
   "source": [
    "# getting net income from subtracting credit amount and debit amount\n",
    "df['Net Income'] = df['Credit Amount'] - df['Debit Amount']"
   ]
  },
  {
   "cell_type": "code",
   "execution_count": 56,
   "id": "c0331cd5",
   "metadata": {},
   "outputs": [],
   "source": [
    "# calculates the total spending per month by summing up the Debit Amount\n",
    "total_spending = df.groupby('Month')['Debit Amount'].sum()"
   ]
  },
  {
   "cell_type": "code",
   "execution_count": 57,
   "id": "09636ba5",
   "metadata": {},
   "outputs": [],
   "source": [
    "# calculates the total spending per month by summing up the credit Amount\n",
    "total_income = df.groupby('Month')['Credit Amount'].sum()"
   ]
  },
  {
   "cell_type": "code",
   "execution_count": 58,
   "id": "b0234dc4",
   "metadata": {},
   "outputs": [],
   "source": [
    "# calculates the savings rate as a percentage\n",
    "savings_rate = ((total_income - total_spending) / total_income) * 100 "
   ]
  },
  {
   "cell_type": "code",
   "execution_count": 59,
   "id": "ac7134c3",
   "metadata": {},
   "outputs": [
    {
     "name": "stdout",
     "output_type": "stream",
     "text": [
      "         Total Income  Total Spending  Net Income  Savings Rate (%)\n",
      "Month                                                              \n",
      "2024-07      504557.8       235842.34   268715.46         53.257617\n"
     ]
    }
   ],
   "source": [
    "financial_health = pd.DataFrame({\n",
    "    'Total Income': total_income,\n",
    "    'Total Spending': total_spending,\n",
    "    'Net Income': total_income - total_spending,\n",
    "    'Savings Rate (%)': savings_rate\n",
    "})\n",
    "\n",
    "# Display the financial health assessment\n",
    "print(financial_health)"
   ]
  },
  {
   "cell_type": "markdown",
   "id": "fffe5757",
   "metadata": {},
   "source": [
    "## Forescasting "
   ]
  },
  {
   "cell_type": "code",
   "execution_count": 60,
   "id": "8f866a62",
   "metadata": {
    "scrolled": true
   },
   "outputs": [],
   "source": [
    "from statsmodels.tsa.arima.model import ARIMA"
   ]
  },
  {
   "cell_type": "code",
   "execution_count": 61,
   "id": "22eb7ec6",
   "metadata": {},
   "outputs": [],
   "source": [
    "# sets the 'Date' column as the index\n",
    "data = df.set_index('Date')['Debit Amount']"
   ]
  },
  {
   "cell_type": "code",
   "execution_count": 62,
   "id": "a93ebc4c",
   "metadata": {},
   "outputs": [
    {
     "name": "stderr",
     "output_type": "stream",
     "text": [
      "C:\\Users\\DELL\\anaconda3\\Lib\\site-packages\\statsmodels\\tsa\\base\\tsa_model.py:473: ValueWarning: A date index has been provided, but it has no associated frequency information and so will be ignored when e.g. forecasting.\n",
      "  self._init_dates(dates, freq)\n",
      "C:\\Users\\DELL\\anaconda3\\Lib\\site-packages\\statsmodels\\tsa\\base\\tsa_model.py:473: ValueWarning: A date index has been provided, but it has no associated frequency information and so will be ignored when e.g. forecasting.\n",
      "  self._init_dates(dates, freq)\n",
      "C:\\Users\\DELL\\anaconda3\\Lib\\site-packages\\statsmodels\\tsa\\base\\tsa_model.py:473: ValueWarning: A date index has been provided, but it has no associated frequency information and so will be ignored when e.g. forecasting.\n",
      "  self._init_dates(dates, freq)\n"
     ]
    }
   ],
   "source": [
    "# create a model ARIMA and fits the model\n",
    "\n",
    "model = ARIMA(data, order=(5,1,0))\n",
    "model_fit = model.fit()"
   ]
  },
  {
   "cell_type": "code",
   "execution_count": 63,
   "id": "828a8d59",
   "metadata": {},
   "outputs": [
    {
     "name": "stderr",
     "output_type": "stream",
     "text": [
      "C:\\Users\\DELL\\anaconda3\\Lib\\site-packages\\statsmodels\\tsa\\base\\tsa_model.py:836: ValueWarning: No supported index is available. Prediction results will be given with an integer index beginning at `start`.\n",
      "  return get_prediction_index(\n",
      "C:\\Users\\DELL\\anaconda3\\Lib\\site-packages\\statsmodels\\tsa\\base\\tsa_model.py:836: FutureWarning: No supported index is available. In the next version, calling this method in a model without a supported index will result in an exception.\n",
      "  return get_prediction_index(\n"
     ]
    }
   ],
   "source": [
    "# Forecast of the next 30 steps\n",
    "forecast = model_fit.forecast(steps=30)"
   ]
  },
  {
   "cell_type": "code",
   "execution_count": 64,
   "id": "a3023b51",
   "metadata": {},
   "outputs": [
    {
     "data": {
      "image/png": "[encoded data removed]",
      "text/plain": [
       "<Figure size 1200x600 with 1 Axes>"
      ]
     },
     "metadata": {},
     "output_type": "display_data"
    }
   ],
   "source": [
    "# plotting forecasting with ARIMA of one month\n",
    "\n",
    "plt.figure(figsize=(12, 6))\n",
    "plt.plot(data.index, data, label='Actual Data')\n",
    "plt.plot(pd.date_range(start=data.index[-1], periods=31, freq='D')[1:], forecast, label='Forecast', linestyle='--')\n",
    "plt.title('Time Series Forecasting with ARIMA (One Month Forecast)')\n",
    "plt.xlabel('Date')\n",
    "plt.ylabel('Debit Amount')\n",
    "plt.legend()\n",
    "plt.show()"
   ]
  },
  {
   "cell_type": "markdown",
   "id": "6586ef2c",
   "metadata": {},
   "source": [
    "## Predictive Modeling"
   ]
  },
  {
   "cell_type": "code",
   "execution_count": 65,
   "id": "3a0963cf",
   "metadata": {},
   "outputs": [],
   "source": [
    "# importing machine learning libraries\n",
    "\n",
    "from sklearn.model_selection import train_test_split\n",
    "from sklearn.preprocessing import LabelEncoder\n",
    "from sklearn.ensemble import RandomForestClassifier\n",
    "from sklearn.metrics import accuracy_score\n",
    "from sklearn.metrics import mean_absolute_error"
   ]
  },
  {
   "cell_type": "code",
   "execution_count": 66,
   "id": "6e64d708",
   "metadata": {},
   "outputs": [],
   "source": [
    "X = df[['Type','Day','Credit Amount','Debit Amount','Closing Balance']] # creating X inpout \n",
    "y = df['Category'] # creating y target variable"
   ]
  },
  {
   "cell_type": "code",
   "execution_count": 67,
   "id": "c522526a",
   "metadata": {},
   "outputs": [
    {
     "name": "stderr",
     "output_type": "stream",
     "text": [
      "C:\\Users\\DELL\\AppData\\Local\\Temp\\ipykernel_11408\\407770725.py:5: SettingWithCopyWarning: \n",
      "A value is trying to be set on a copy of a slice from a DataFrame.\n",
      "Try using .loc[row_indexer,col_indexer] = value instead\n",
      "\n",
      "See the caveats in the documentation: https://pandas.pydata.org/pandas-docs/stable/user_guide/indexing.html#returning-a-view-versus-a-copy\n",
      "  X[feature] = label_encoders[feature].fit_transform(X[feature])\n",
      "C:\\Users\\DELL\\AppData\\Local\\Temp\\ipykernel_11408\\407770725.py:5: SettingWithCopyWarning: \n",
      "A value is trying to be set on a copy of a slice from a DataFrame.\n",
      "Try using .loc[row_indexer,col_indexer] = value instead\n",
      "\n",
      "See the caveats in the documentation: https://pandas.pydata.org/pandas-docs/stable/user_guide/indexing.html#returning-a-view-versus-a-copy\n",
      "  X[feature] = label_encoders[feature].fit_transform(X[feature])\n"
     ]
    }
   ],
   "source": [
    "# label encoder to type and day\n",
    "label_encoders = {}\n",
    "for feature in ['Type', 'Day']:\n",
    "    label_encoders[feature] = LabelEncoder()\n",
    "    X[feature] = label_encoders[feature].fit_transform(X[feature])"
   ]
  },
  {
   "cell_type": "code",
   "execution_count": 68,
   "id": "d742169a",
   "metadata": {},
   "outputs": [],
   "source": [
    "# splits the data in training and testing with test size 20% and random staet to 42 \n",
    "\n",
    "X_train, X_test, y_train, y_test = train_test_split(X, y, test_size=0.2, random_state=42)"
   ]
  },
  {
   "cell_type": "code",
   "execution_count": 69,
   "id": "67c1a015",
   "metadata": {},
   "outputs": [
    {
     "data": {
      "text/html": [
       "<style>#sk-container-id-1 {color: black;}#sk-container-id-1 pre{padding: 0;}#sk-container-id-1 div.sk-toggleable {background-color: white;}#sk-container-id-1 label.sk-toggleable__label {cursor: pointer;display: block;width: 100%;margin-bottom: 0;padding: 0.3em;box-sizing: border-box;text-align: center;}#sk-container-id-1 label.sk-toggleable__label-arrow:before {content: \"▸\";float: left;margin-right: 0.25em;color: #696969;}#sk-container-id-1 label.sk-toggleable__label-arrow:hover:before {color: black;}#sk-container-id-1 div.sk-estimator:hover label.sk-toggleable__label-arrow:before {color: black;}#sk-container-id-1 div.sk-toggleable__content {max-height: 0;max-width: 0;overflow: hidden;text-align: left;background-color: #f0f8ff;}#sk-container-id-1 div.sk-toggleable__content pre {margin: 0.2em;color: black;border-radius: 0.25em;background-color: #f0f8ff;}#sk-container-id-1 input.sk-toggleable__control:checked~div.sk-toggleable__content {max-height: 200px;max-width: 100%;overflow: auto;}#sk-container-id-1 input.sk-toggleable__control:checked~label.sk-toggleable__label-arrow:before {content: \"▾\";}#sk-container-id-1 div.sk-estimator input.sk-toggleable__control:checked~label.sk-toggleable__label {background-color: #d4ebff;}#sk-container-id-1 div.sk-label input.sk-toggleable__control:checked~label.sk-toggleable__label {background-color: #d4ebff;}#sk-container-id-1 input.sk-hidden--visually {border: 0;clip: rect(1px 1px 1px 1px);clip: rect(1px, 1px, 1px, 1px);height: 1px;margin: -1px;overflow: hidden;padding: 0;position: absolute;width: 1px;}#sk-container-id-1 div.sk-estimator {font-family: monospace;background-color: #f0f8ff;border: 1px dotted black;border-radius: 0.25em;box-sizing: border-box;margin-bottom: 0.5em;}#sk-container-id-1 div.sk-estimator:hover {background-color: #d4ebff;}#sk-container-id-1 div.sk-parallel-item::after {content: \"\";width: 100%;border-bottom: 1px solid gray;flex-grow: 1;}#sk-container-id-1 div.sk-label:hover label.sk-toggleable__label {background-color: #d4ebff;}#sk-container-id-1 div.sk-serial::before {content: \"\";position: absolute;border-left: 1px solid gray;box-sizing: border-box;top: 0;bottom: 0;left: 50%;z-index: 0;}#sk-container-id-1 div.sk-serial {display: flex;flex-direction: column;align-items: center;background-color: white;padding-right: 0.2em;padding-left: 0.2em;position: relative;}#sk-container-id-1 div.sk-item {position: relative;z-index: 1;}#sk-container-id-1 div.sk-parallel {display: flex;align-items: stretch;justify-content: center;background-color: white;position: relative;}#sk-container-id-1 div.sk-item::before, #sk-container-id-1 div.sk-parallel-item::before {content: \"\";position: absolute;border-left: 1px solid gray;box-sizing: border-box;top: 0;bottom: 0;left: 50%;z-index: -1;}#sk-container-id-1 div.sk-parallel-item {display: flex;flex-direction: column;z-index: 1;position: relative;background-color: white;}#sk-container-id-1 div.sk-parallel-item:first-child::after {align-self: flex-end;width: 50%;}#sk-container-id-1 div.sk-parallel-item:last-child::after {align-self: flex-start;width: 50%;}#sk-container-id-1 div.sk-parallel-item:only-child::after {width: 0;}#sk-container-id-1 div.sk-dashed-wrapped {border: 1px dashed gray;margin: 0 0.4em 0.5em 0.4em;box-sizing: border-box;padding-bottom: 0.4em;background-color: white;}#sk-container-id-1 div.sk-label label {font-family: monospace;font-weight: bold;display: inline-block;line-height: 1.2em;}#sk-container-id-1 div.sk-label-container {text-align: center;}#sk-container-id-1 div.sk-container {/* jupyter's `normalize.less` sets `[hidden] { display: none; }` but bootstrap.min.css set `[hidden] { display: none !important; }` so we also need the `!important` here to be able to override the default hidden behavior on the sphinx rendered scikit-learn.org. See: https://github.com/scikit-learn/scikit-learn/issues/21755 */display: inline-block !important;position: relative;}#sk-container-id-1 div.sk-text-repr-fallback {display: none;}</style><div id=\"sk-container-id-1\" class=\"sk-top-container\"><div class=\"sk-text-repr-fallback\"><pre>RandomForestClassifier()</pre><b>In a Jupyter environment, please rerun this cell to show the HTML representation or trust the notebook. <br />On GitHub, the HTML representation is unable to render, please try loading this page with nbviewer.org.</b></div><div class=\"sk-container\" hidden><div class=\"sk-item\"><div class=\"sk-estimator sk-toggleable\"><input class=\"sk-toggleable__control sk-hidden--visually\" id=\"sk-estimator-id-1\" type=\"checkbox\" checked><label for=\"sk-estimator-id-1\" class=\"sk-toggleable__label sk-toggleable__label-arrow\">RandomForestClassifier</label><div class=\"sk-toggleable__content\"><pre>RandomForestClassifier()</pre></div></div></div></div></div>"
      ],
      "text/plain": [
       "RandomForestClassifier()"
      ]
     },
     "execution_count": 69,
     "metadata": {},
     "output_type": "execute_result"
    }
   ],
   "source": [
    "# fitting the model\n",
    "model = RandomForestClassifier()\n",
    "model.fit(X_train, y_train)"
   ]
  },
  {
   "cell_type": "code",
   "execution_count": 70,
   "id": "bfc09b29",
   "metadata": {},
   "outputs": [
    {
     "name": "stdout",
     "output_type": "stream",
     "text": [
      "Accuracy: 0.7727272727272727\n"
     ]
    }
   ],
   "source": [
    "y_pred = model.predict(X_test)\n",
    "accuracy = accuracy_score(y_test, y_pred)\n",
    "print(\"Accuracy:\", accuracy) # printing accuracy"
   ]
  }
 ],
 "metadata": {
  "kernelspec": {
   "display_name": "Python 3 (ipykernel)",
   "language": "python",
   "name": "python3"
  },
  "language_info": {
   "codemirror_mode": {
    "name": "ipython",
    "version": 3
   },
   "file_extension": ".py",
   "mimetype": "text/x-python",
   "name": "python",
   "nbconvert_exporter": "python",
   "pygments_lexer": "ipython3",
   "version": "3.11.5"
  }
 },
 "nbformat": 4,
 "nbformat_minor": 5
}
